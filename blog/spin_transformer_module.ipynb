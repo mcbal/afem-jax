{
 "cells": [
  {
   "cell_type": "markdown",
   "id": "59aacb0a-b330-4bf5-b521-7ce4953bf2ff",
   "metadata": {
    "tags": []
   },
   "source": [
    "# Spin-transformer models"
   ]
  },
  {
   "cell_type": "code",
   "execution_count": null,
   "id": "e484d695",
   "metadata": {},
   "outputs": [],
   "source": [
    "import jax\n",
    "import jax.numpy as jnp\n",
    "import equinox as eqx\n",
    "\n",
    "from spin_model_transformers import SpinTransformerModule, SpinTransformer"
   ]
  },
  {
   "cell_type": "code",
   "execution_count": null,
   "id": "34c3fda2",
   "metadata": {},
   "outputs": [],
   "source": [
    "key = jax.random.PRNGKey(2666)\n",
    "x_key, mod_key = jax.random.split(key)\n",
    "\n",
    "x = jax.random.normal(x_key, shape=(1, 512, 512))\n",
    "transformer_module = SpinTransformerModule(dim=512, num_heads=1, beta=2.0, key=mod_key)\n",
    "\n",
    "print(jax.vmap(transformer_module)(x))"
   ]
  },
  {
   "cell_type": "code",
   "execution_count": null,
   "id": "14e2315c",
   "metadata": {},
   "outputs": [],
   "source": [
    "@eqx.filter_jit\n",
    "def loss_fn(model, x):\n",
    "    return jnp.mean(jax.vmap(model)(x))\n",
    "\n",
    "\n",
    "print(eqx.filter_grad(loss_fn)(transformer_module, x).to_qk.weight)"
   ]
  },
  {
   "cell_type": "code",
   "execution_count": null,
   "id": "e1a1adfc",
   "metadata": {},
   "outputs": [],
   "source": [
    "transformer = SpinTransformer(depth=6, dim=512, num_heads=8, beta=1.0, key=mod_key)\n",
    "print(jax.vmap(transformer)(x))"
   ]
  }
 ],
 "metadata": {
  "kernelspec": {
   "display_name": "py310",
   "language": "python",
   "name": "python3"
  },
  "language_info": {
   "codemirror_mode": {
    "name": "ipython",
    "version": 3
   },
   "file_extension": ".py",
   "mimetype": "text/x-python",
   "name": "python",
   "nbconvert_exporter": "python",
   "pygments_lexer": "ipython3",
   "version": "3.10.11"
  }
 },
 "nbformat": 4,
 "nbformat_minor": 5
}
