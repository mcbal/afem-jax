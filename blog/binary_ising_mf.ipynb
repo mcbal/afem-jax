{
 "cells": [
  {
   "cell_type": "markdown",
   "id": "59aacb0a-b330-4bf5-b521-7ce4953bf2ff",
   "metadata": {
    "tags": []
   },
   "source": [
    "# Mean-field theory of asymmetric Ising models with binary spins (in JAX)"
   ]
  },
  {
   "cell_type": "code",
   "execution_count": null,
   "id": "eb80f5ac-25d9-4f30-a0a4-76c67e06dd90",
   "metadata": {},
   "outputs": [],
   "source": [
    "from functools import partial\n",
    "\n",
    "import jax\n",
    "import jax.numpy as jnp\n",
    "\n",
    "from jaxopt import AndersonAcceleration\n",
    "\n",
    "\n",
    "def update_naive_mf(m0, _, x, J):\n",
    "    \"\"\"See Eq. (22).\"\"\"\n",
    "\n",
    "    m1 = jnp.tanh(x + jnp.einsum(\"i j, j -> i\", J, m0))\n",
    "    return m1, m0\n",
    "\n",
    "\n",
    "def update_tap_mf(m0, _, x, J):\n",
    "    \"\"\"See Eq. (26).\"\"\"\n",
    "\n",
    "    def tap(m, _m0, _x, _J):\n",
    "        return jnp.tanh(\n",
    "            _x\n",
    "            + jnp.einsum(\"i j, j -> i\", _J, _m0)\n",
    "            - m * jnp.einsum(\"i j, j -> i\", _J**2, (1.0 - _m0**2))\n",
    "        )\n",
    "\n",
    "    m1 = (\n",
    "        AndersonAcceleration(fixed_point_fun=tap, tol=1e-3, maxiter=10)\n",
    "        .run(m0, m0, x, J)\n",
    "        .params\n",
    "    )\n",
    "    return m1, m0\n",
    "\n",
    "\n",
    "def time_evolution(m0, steps, update_fun):\n",
    "    final_carry, stacked_outputs = jax.lax.scan(update_fun, init=m0, xs=steps)\n",
    "    return final_carry, stacked_outputs\n",
    "\n",
    "\n",
    "def init_params(key, N, beta, X0, J_mu, J_sigma):\n",
    "    x_key, J_key = jax.random.split(key)\n",
    "    x = jax.random.uniform(x_key, shape=(N,), minval=-beta * X0, maxval=beta * X0)\n",
    "    J = beta * J_mu * N**-1 + beta * J_sigma * N**-0.5 * jax.random.normal(\n",
    "        J_key, shape=(N, N)\n",
    "    )\n",
    "    return x, J\n",
    "\n",
    "\n",
    "def simulate(\n",
    "    key, m0, steps, beta, X0=0.5, J_mu=1.0, J_sigma=0.1, update_fun=update_tap_mf\n",
    "):\n",
    "    x, J = init_params(key, m0.shape[-1], beta, X0, J_mu, J_sigma)\n",
    "    wrapped_time_evolution = partial(\n",
    "        time_evolution,\n",
    "        steps=steps,\n",
    "        update_fun=partial(update_fun, x=x, J=J),\n",
    "    )\n",
    "    final_carry, stacked_outputs = jax.vmap(wrapped_time_evolution)(m0)\n",
    "    return final_carry, stacked_outputs"
   ]
  },
  {
   "cell_type": "code",
   "execution_count": null,
   "id": "e2accb24-d9e5-43a1-a97e-4740d6bbd416",
   "metadata": {
    "tags": []
   },
   "outputs": [],
   "source": [
    "import matplotlib.pyplot as plt\n",
    "\n",
    "\n",
    "beta_c = 1.1108\n",
    "num_spins = 512\n",
    "steps = jnp.arange(0, 128)"
   ]
  },
  {
   "cell_type": "markdown",
   "id": "cdc8929c-1061-45b7-9ece-9fe7036d61b6",
   "metadata": {},
   "source": [
    "### Naive mean-field vs. Thouless-Anderson-Palmer (TAP)"
   ]
  },
  {
   "cell_type": "code",
   "execution_count": null,
   "id": "ecf2907b-9a8a-4242-88eb-e084fdd79391",
   "metadata": {
    "tags": []
   },
   "outputs": [],
   "source": [
    "key = jax.random.PRNGKey(2666)\n",
    "params_key, _ = jax.random.split(key)\n",
    "\n",
    "m0 = jnp.ones((1, num_spins))\n",
    "_, stacked_outputs = simulate(params_key, m0, steps, beta_c, update_fun=update_naive_mf)\n",
    "\n",
    "y = stacked_outputs[0, :, :]\n",
    "\n",
    "with plt.style.context(\"ggplot\"):\n",
    "    plt.clf()\n",
    "    fig, ax1 = plt.subplots()\n",
    "\n",
    "    ax1.set_xlabel(r\"$t$\")\n",
    "    ax1.set_ylabel(r\"$m_{i,t}$\")\n",
    "    ax1.imshow(y.transpose((1, 0)), aspect=\"auto\")\n",
    "    ax1.grid(False)\n",
    "\n",
    "    ax2 = ax1.twinx()\n",
    "    ax2.set_ylabel(r\"$\\langle m_{i,t} \\rangle$\")\n",
    "    ax2.plot(steps, y.mean(axis=-1), color=\"tab:red\", linewidth=2.0)\n",
    "    ax2.grid(False)\n",
    "\n",
    "    fig.tight_layout()\n",
    "    plt.show()"
   ]
  },
  {
   "cell_type": "code",
   "execution_count": null,
   "id": "3e823582-cee6-412f-89cf-54d8b74f173a",
   "metadata": {
    "tags": []
   },
   "outputs": [],
   "source": [
    "key = jax.random.PRNGKey(2666)\n",
    "params_key, m0_key = jax.random.split(key)\n",
    "\n",
    "m0 = jnp.ones((1, num_spins))\n",
    "_, stacked_outputs_naive = simulate(\n",
    "    params_key, m0, steps, beta_c, update_fun=update_naive_mf\n",
    ")\n",
    "_, stacked_outputs_tap = simulate(params_key, m0, steps, beta_c)\n",
    "\n",
    "y_naive = stacked_outputs_naive.mean(axis=-1).transpose((1, 0))\n",
    "y_tap = stacked_outputs_tap.mean(axis=-1).transpose((1, 0))\n",
    "\n",
    "with plt.style.context(\"ggplot\"):\n",
    "    plt.plot(steps, y_naive, label=\"Naive mean-field\", color=\"tab:red\", linewidth=1.5)\n",
    "    plt.plot(\n",
    "        steps,\n",
    "        y_tap,\n",
    "        label=\"Thouless-Anderson-Palmer (TAP)\",\n",
    "        color=\"tab:blue\",\n",
    "        linewidth=1.5,\n",
    "    )\n",
    "    plt.legend()\n",
    "    plt.xlabel(r\"$t$\")\n",
    "    plt.ylabel(r\"$\\langle m_{i,t} \\rangle$\")\n",
    "    plt.show()"
   ]
  },
  {
   "cell_type": "markdown",
   "id": "7f6980fa",
   "metadata": {},
   "source": [
    "### Sampling trajectories"
   ]
  },
  {
   "cell_type": "code",
   "execution_count": null,
   "id": "88a70d9e-1037-4391-8b28-a6cf12d11e49",
   "metadata": {
    "tags": []
   },
   "outputs": [],
   "source": [
    "key = jax.random.PRNGKey(2666)\n",
    "params_key, m0_key = jax.random.split(key)\n",
    "\n",
    "m0 = 5 * jax.random.normal(m0_key, shape=(100, num_spins))\n",
    "_, stacked_outputs_below = simulate(params_key, m0, steps, 0.5 * beta_c)\n",
    "_, stacked_outputs_near = simulate(params_key, m0, steps, beta_c)\n",
    "_, stacked_outputs_above = simulate(params_key, m0, steps, 2 * beta_c)\n",
    "\n",
    "with plt.style.context(\"ggplot\"):\n",
    "    plt.figure(figsize=(9, 3))\n",
    "\n",
    "    ax1 = plt.subplot(131)\n",
    "    plt.plot(\n",
    "        steps, stacked_outputs_below.mean(axis=-1).transpose((1, 0)), linewidth=1.0\n",
    "    )\n",
    "    plt.xlabel(r\"$t$\")\n",
    "    plt.ylabel(r\"$\\langle m_{i,t} \\rangle$\")\n",
    "    plt.title(r\"$\\beta < \\beta_c$\", fontsize=10)\n",
    "\n",
    "    ax2 = plt.subplot(132, sharey=ax1)\n",
    "    plt.plot(steps, stacked_outputs_near.mean(axis=-1).transpose((1, 0)), linewidth=1.0)\n",
    "    plt.xlabel(r\"$t$\")\n",
    "    plt.title(r\"$\\beta \\approx \\beta_c$\", fontsize=10)\n",
    "\n",
    "    ax3 = plt.subplot(133, sharey=ax1)\n",
    "    plt.plot(\n",
    "        steps, stacked_outputs_above.mean(axis=-1).transpose((1, 0)), linewidth=1.0\n",
    "    )\n",
    "    plt.xlabel(r\"$t$\")\n",
    "    plt.title(r\"$\\beta > \\beta_c$\", fontsize=10)\n",
    "\n",
    "    plt.show()"
   ]
  },
  {
   "cell_type": "markdown",
   "id": "5b909038",
   "metadata": {},
   "source": [
    "### Sampling model parameters"
   ]
  },
  {
   "cell_type": "code",
   "execution_count": null,
   "id": "4562445b-50fa-44fb-a9df-5e05b2d14f18",
   "metadata": {
    "tags": []
   },
   "outputs": [],
   "source": [
    "key = jax.random.PRNGKey(2666)\n",
    "params_key, m0_key = jax.random.split(key)\n",
    "\n",
    "m0 = jax.random.normal(m0_key, shape=(1, num_spins))\n",
    "_, stacked_outputs = jax.vmap(\n",
    "    jax.vmap(simulate, in_axes=(0, None, None, None)), in_axes=(None, None, None, 0)\n",
    ")(\n",
    "    jax.random.split(params_key, num=100),\n",
    "    m0,\n",
    "    steps,\n",
    "    jnp.linspace(0.25 * beta_c, 2 * beta_c, num=20),\n",
    ")\n",
    "\n",
    "y = jnp.abs(stacked_outputs[:, :, 0, -1, :].mean(axis=-1))\n",
    "\n",
    "with plt.style.context(\"ggplot\"):\n",
    "    plt.plot(jnp.linspace(0.25 * beta_c, 2 * beta_c, num=20), y, linewidth=1.0)\n",
    "    plt.axvline(x=beta_c)\n",
    "    plt.xlabel(r\"$\\beta$\")\n",
    "    plt.ylabel(r\"$\\langle m_{i} \\rangle$\")\n",
    "    plt.show()"
   ]
  }
 ],
 "metadata": {
  "kernelspec": {
   "display_name": "py310",
   "language": "python",
   "name": "python3"
  },
  "language_info": {
   "codemirror_mode": {
    "name": "ipython",
    "version": 3
   },
   "file_extension": ".py",
   "mimetype": "text/x-python",
   "name": "python",
   "nbconvert_exporter": "python",
   "pygments_lexer": "ipython3",
   "version": "3.10.11"
  }
 },
 "nbformat": 4,
 "nbformat_minor": 5
}
